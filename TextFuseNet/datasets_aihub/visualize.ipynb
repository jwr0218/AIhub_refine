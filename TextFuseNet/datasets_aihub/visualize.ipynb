{
 "cells": [
  {
   "cell_type": "code",
   "execution_count": 14,
   "metadata": {},
   "outputs": [],
   "source": [
    "import json\n",
    "import os \n",
    "import sys \n",
    "import cv2\n",
    "import shutil\n",
    "import numpy as np \n",
    "import matplotlib.pyplot as plt \n",
    "\n",
    "cnt = 0 \n",
    "normal = 0 \n",
    "figures = []\n",
    "for dir in ['./training/','./validation/']:\n",
    "\n",
    "    label_dir = dir + 'labels/'\n",
    "    image_dir = dir + 'images/'\n",
    "\n",
    "    new_schema = dict()            \n",
    "    images = []\n",
    "    categories = []\n",
    "    annotations = []\n",
    "\n",
    "\n",
    "    for label_json in os.listdir(label_dir):\n",
    "        label_dir_folder_json = label_dir+label_json\n",
    "            \n",
    "        #print(label_dir_folder_json)\n",
    "        image_dir = label_dir_folder_json.replace('.json','.png')\n",
    "        image_dir = image_dir.replace('label','image')\n",
    "        #print(image_dir)\n",
    "        \n",
    "        \n",
    "\n",
    "        with open(label_dir_folder_json, \"r\") as json_file:\n",
    "            img = cv2.imread(image_dir, cv2.IMREAD_COLOR)\n",
    "            h , w, c = img.shape\n",
    "            \n",
    "            img_name = label_json.replace('.json','.png')\n",
    "            \n",
    "            json_dict = json.load(json_file)\n",
    "            image = dict()\n",
    "            image['file_name'] = img_name\n",
    "            image['height'] = h\n",
    "            image['id'] = json_dict['id']\n",
    "            image['width'] = w\n",
    "            total_area = h*w\n",
    "            figure_area = 0 \n",
    "            for data in json_dict['segments']:\n",
    "                \n",
    "                try:    \n",
    "                    data['equation']\n",
    "                    \n",
    "                except:\n",
    "                    #print('도형')\n",
    "                    continue\n",
    "                annotation = dict()\n",
    "                min_x = 9999 \n",
    "                min_y = 9999\n",
    "                max_x = 0 \n",
    "                max_y = 0\n",
    "                anno = []\n",
    "                \n",
    "                for b in data['box']:\n",
    "                    min_x = min(min_x,b[0])\n",
    "                    min_y = min(min_y,b[1])\n",
    "                    max_x = max(max_x,b[0])\n",
    "                    max_y = max(max_y,b[1])\n",
    "                    anno.extend(b)\n",
    "                gap_x , gap_y  = max_x-min_x , max_y-min_y\n",
    "\n",
    "                #print(gap_x,gap_y)\n",
    "                #box = [min(data['box'])]\n",
    "                annotation['area'] = float(gap_x * gap_y)\n",
    "                figure_area += float(gap_x * gap_y)\n",
    "    \n",
    "        figures.append(figure_area/total_area)\n",
    "        normal+=1\n",
    "        cnt +=1\n",
    "        #if cnt >= 10000:\n",
    "        #    bins = np.linspace(0,1,10)\n",
    "        #    plt.hist(figures,bins)\n",
    "        #    plt.show()\n",
    "        if figure_area/total_area > 0.9:\n",
    "            #print(figure_area/total_area , '<<<<< figure_area occupying over than threshold.')\n",
    "            #print(image_dir)\n",
    "            \n",
    "            shutil.copy(image_dir ,dir + 'cropped_image/'+ img_name)\n",
    "            shutil.move(label_dir_folder_json,dir+'cropped_label/'+label_json)\n",
    "            #sys.exit()\n",
    "            cnt +=1 \n",
    "            if cnt % 1000 == 0 :\n",
    "                print('1000장의 데이터를 move 했습니다.')\n",
    "\n",
    "            #break\n",
    "            #continue\n",
    "    #break"
   ]
  },
  {
   "cell_type": "code",
   "execution_count": 4,
   "metadata": {},
   "outputs": [
    {
     "name": "stdout",
     "output_type": "stream",
     "text": [
      "Requirement already satisfied: numpy in /opt/conda/lib/python3.8/site-packages (1.21.2)\n",
      "\u001b[33mWARNING: Running pip as the 'root' user can result in broken permissions and conflicting behaviour with the system package manager. It is recommended to use a virtual environment instead: https://pip.pypa.io/warnings/venv\u001b[0m\n"
     ]
    }
   ],
   "source": []
  },
  {
   "cell_type": "code",
   "execution_count": null,
   "metadata": {},
   "outputs": [],
   "source": []
  }
 ],
 "metadata": {
  "kernelspec": {
   "display_name": "Python 3.8.12 ('base')",
   "language": "python",
   "name": "python3"
  },
  "language_info": {
   "codemirror_mode": {
    "name": "ipython",
    "version": 3
   },
   "file_extension": ".py",
   "mimetype": "text/x-python",
   "name": "python",
   "nbconvert_exporter": "python",
   "pygments_lexer": "ipython3",
   "version": "3.8.12"
  },
  "orig_nbformat": 4,
  "vscode": {
   "interpreter": {
    "hash": "d4d1e4263499bec80672ea0156c357c1ee493ec2b1c70f0acce89fc37c4a6abe"
   }
  }
 },
 "nbformat": 4,
 "nbformat_minor": 2
}
